{
 "cells": [
  {
   "cell_type": "code",
   "execution_count": 173,
   "id": "efa80718",
   "metadata": {},
   "outputs": [],
   "source": [
    "import pandas as pd\n",
    "from sklearn.preprocessing import LabelEncoder\n",
    "from sklearn.ensemble import RandomForestClassifier\n",
    "from sklearn.ensemble import RandomForestRegressor\n",
    "from sklearn.model_selection import train_test_split\n",
    "from sklearn import tree\n",
    "import matplotlib.pyplot as plt\n",
    "from sklearn.metrics import mean_absolute_percentage_error as mape"
   ]
  },
  {
   "cell_type": "code",
   "execution_count": 174,
   "id": "6bdc04e0",
   "metadata": {},
   "outputs": [
    {
     "data": {
      "text/html": [
       "<div>\n",
       "<style scoped>\n",
       "    .dataframe tbody tr th:only-of-type {\n",
       "        vertical-align: middle;\n",
       "    }\n",
       "\n",
       "    .dataframe tbody tr th {\n",
       "        vertical-align: top;\n",
       "    }\n",
       "\n",
       "    .dataframe thead th {\n",
       "        text-align: right;\n",
       "    }\n",
       "</style>\n",
       "<table border=\"1\" class=\"dataframe\">\n",
       "  <thead>\n",
       "    <tr style=\"text-align: right;\">\n",
       "      <th></th>\n",
       "      <th>Sales</th>\n",
       "      <th>CompPrice</th>\n",
       "      <th>Income</th>\n",
       "      <th>Advertising</th>\n",
       "      <th>Population</th>\n",
       "      <th>Price</th>\n",
       "      <th>ShelveLoc</th>\n",
       "      <th>Age</th>\n",
       "      <th>Education</th>\n",
       "      <th>Urban</th>\n",
       "      <th>US</th>\n",
       "    </tr>\n",
       "  </thead>\n",
       "  <tbody>\n",
       "    <tr>\n",
       "      <th>0</th>\n",
       "      <td>9.50</td>\n",
       "      <td>138</td>\n",
       "      <td>73</td>\n",
       "      <td>11</td>\n",
       "      <td>276</td>\n",
       "      <td>120</td>\n",
       "      <td>Bad</td>\n",
       "      <td>42</td>\n",
       "      <td>17</td>\n",
       "      <td>Yes</td>\n",
       "      <td>Yes</td>\n",
       "    </tr>\n",
       "    <tr>\n",
       "      <th>1</th>\n",
       "      <td>11.22</td>\n",
       "      <td>111</td>\n",
       "      <td>48</td>\n",
       "      <td>16</td>\n",
       "      <td>260</td>\n",
       "      <td>83</td>\n",
       "      <td>Good</td>\n",
       "      <td>65</td>\n",
       "      <td>10</td>\n",
       "      <td>Yes</td>\n",
       "      <td>Yes</td>\n",
       "    </tr>\n",
       "    <tr>\n",
       "      <th>2</th>\n",
       "      <td>10.06</td>\n",
       "      <td>113</td>\n",
       "      <td>35</td>\n",
       "      <td>10</td>\n",
       "      <td>269</td>\n",
       "      <td>80</td>\n",
       "      <td>Medium</td>\n",
       "      <td>59</td>\n",
       "      <td>12</td>\n",
       "      <td>Yes</td>\n",
       "      <td>Yes</td>\n",
       "    </tr>\n",
       "    <tr>\n",
       "      <th>3</th>\n",
       "      <td>7.40</td>\n",
       "      <td>117</td>\n",
       "      <td>100</td>\n",
       "      <td>4</td>\n",
       "      <td>466</td>\n",
       "      <td>97</td>\n",
       "      <td>Medium</td>\n",
       "      <td>55</td>\n",
       "      <td>14</td>\n",
       "      <td>Yes</td>\n",
       "      <td>Yes</td>\n",
       "    </tr>\n",
       "    <tr>\n",
       "      <th>4</th>\n",
       "      <td>4.15</td>\n",
       "      <td>141</td>\n",
       "      <td>64</td>\n",
       "      <td>3</td>\n",
       "      <td>340</td>\n",
       "      <td>128</td>\n",
       "      <td>Bad</td>\n",
       "      <td>38</td>\n",
       "      <td>13</td>\n",
       "      <td>Yes</td>\n",
       "      <td>No</td>\n",
       "    </tr>\n",
       "  </tbody>\n",
       "</table>\n",
       "</div>"
      ],
      "text/plain": [
       "   Sales  CompPrice  Income  Advertising  Population  Price ShelveLoc  Age  \\\n",
       "0   9.50        138      73           11         276    120       Bad   42   \n",
       "1  11.22        111      48           16         260     83      Good   65   \n",
       "2  10.06        113      35           10         269     80    Medium   59   \n",
       "3   7.40        117     100            4         466     97    Medium   55   \n",
       "4   4.15        141      64            3         340    128       Bad   38   \n",
       "\n",
       "   Education Urban   US  \n",
       "0         17   Yes  Yes  \n",
       "1         10   Yes  Yes  \n",
       "2         12   Yes  Yes  \n",
       "3         14   Yes  Yes  \n",
       "4         13   Yes   No  "
      ]
     },
     "execution_count": 174,
     "metadata": {},
     "output_type": "execute_result"
    }
   ],
   "source": [
    "df = pd.read_csv(\"Company_Data.csv\")\n",
    "df.head()"
   ]
  },
  {
   "cell_type": "markdown",
   "id": "823ebe56",
   "metadata": {},
   "source": [
    "# To predict the key attributes needed for determining whether high sales or not"
   ]
  },
  {
   "cell_type": "code",
   "execution_count": 175,
   "id": "a4da8b64",
   "metadata": {},
   "outputs": [
    {
     "data": {
      "text/plain": [
       "16.27"
      ]
     },
     "execution_count": 175,
     "metadata": {},
     "output_type": "execute_result"
    }
   ],
   "source": [
    "df[\"Sales\"].max()"
   ]
  },
  {
   "cell_type": "code",
   "execution_count": 176,
   "id": "aac7302c",
   "metadata": {},
   "outputs": [
    {
     "data": {
      "text/plain": [
       "0.0"
      ]
     },
     "execution_count": 176,
     "metadata": {},
     "output_type": "execute_result"
    }
   ],
   "source": [
    "df[\"Sales\"].min()"
   ]
  },
  {
   "cell_type": "markdown",
   "id": "c30e9d7c",
   "metadata": {},
   "source": [
    "Assuming a sales above 7 as high and otherwise as low"
   ]
  },
  {
   "cell_type": "code",
   "execution_count": 177,
   "id": "2ff5c700",
   "metadata": {},
   "outputs": [
    {
     "data": {
      "text/html": [
       "<div>\n",
       "<style scoped>\n",
       "    .dataframe tbody tr th:only-of-type {\n",
       "        vertical-align: middle;\n",
       "    }\n",
       "\n",
       "    .dataframe tbody tr th {\n",
       "        vertical-align: top;\n",
       "    }\n",
       "\n",
       "    .dataframe thead th {\n",
       "        text-align: right;\n",
       "    }\n",
       "</style>\n",
       "<table border=\"1\" class=\"dataframe\">\n",
       "  <thead>\n",
       "    <tr style=\"text-align: right;\">\n",
       "      <th></th>\n",
       "      <th>Sales</th>\n",
       "      <th>CompPrice</th>\n",
       "      <th>Income</th>\n",
       "      <th>Advertising</th>\n",
       "      <th>Population</th>\n",
       "      <th>Price</th>\n",
       "      <th>ShelveLoc</th>\n",
       "      <th>Age</th>\n",
       "      <th>Education</th>\n",
       "      <th>Urban</th>\n",
       "      <th>US</th>\n",
       "      <th>Class</th>\n",
       "    </tr>\n",
       "  </thead>\n",
       "  <tbody>\n",
       "    <tr>\n",
       "      <th>0</th>\n",
       "      <td>9.50</td>\n",
       "      <td>138</td>\n",
       "      <td>73</td>\n",
       "      <td>11</td>\n",
       "      <td>276</td>\n",
       "      <td>120</td>\n",
       "      <td>Bad</td>\n",
       "      <td>42</td>\n",
       "      <td>17</td>\n",
       "      <td>Yes</td>\n",
       "      <td>Yes</td>\n",
       "      <td>High</td>\n",
       "    </tr>\n",
       "    <tr>\n",
       "      <th>1</th>\n",
       "      <td>11.22</td>\n",
       "      <td>111</td>\n",
       "      <td>48</td>\n",
       "      <td>16</td>\n",
       "      <td>260</td>\n",
       "      <td>83</td>\n",
       "      <td>Good</td>\n",
       "      <td>65</td>\n",
       "      <td>10</td>\n",
       "      <td>Yes</td>\n",
       "      <td>Yes</td>\n",
       "      <td>High</td>\n",
       "    </tr>\n",
       "    <tr>\n",
       "      <th>2</th>\n",
       "      <td>10.06</td>\n",
       "      <td>113</td>\n",
       "      <td>35</td>\n",
       "      <td>10</td>\n",
       "      <td>269</td>\n",
       "      <td>80</td>\n",
       "      <td>Medium</td>\n",
       "      <td>59</td>\n",
       "      <td>12</td>\n",
       "      <td>Yes</td>\n",
       "      <td>Yes</td>\n",
       "      <td>High</td>\n",
       "    </tr>\n",
       "    <tr>\n",
       "      <th>3</th>\n",
       "      <td>7.40</td>\n",
       "      <td>117</td>\n",
       "      <td>100</td>\n",
       "      <td>4</td>\n",
       "      <td>466</td>\n",
       "      <td>97</td>\n",
       "      <td>Medium</td>\n",
       "      <td>55</td>\n",
       "      <td>14</td>\n",
       "      <td>Yes</td>\n",
       "      <td>Yes</td>\n",
       "      <td>High</td>\n",
       "    </tr>\n",
       "    <tr>\n",
       "      <th>4</th>\n",
       "      <td>4.15</td>\n",
       "      <td>141</td>\n",
       "      <td>64</td>\n",
       "      <td>3</td>\n",
       "      <td>340</td>\n",
       "      <td>128</td>\n",
       "      <td>Bad</td>\n",
       "      <td>38</td>\n",
       "      <td>13</td>\n",
       "      <td>Yes</td>\n",
       "      <td>No</td>\n",
       "      <td>Low</td>\n",
       "    </tr>\n",
       "  </tbody>\n",
       "</table>\n",
       "</div>"
      ],
      "text/plain": [
       "   Sales  CompPrice  Income  Advertising  Population  Price ShelveLoc  Age  \\\n",
       "0   9.50        138      73           11         276    120       Bad   42   \n",
       "1  11.22        111      48           16         260     83      Good   65   \n",
       "2  10.06        113      35           10         269     80    Medium   59   \n",
       "3   7.40        117     100            4         466     97    Medium   55   \n",
       "4   4.15        141      64            3         340    128       Bad   38   \n",
       "\n",
       "   Education Urban   US Class  \n",
       "0         17   Yes  Yes  High  \n",
       "1         10   Yes  Yes  High  \n",
       "2         12   Yes  Yes  High  \n",
       "3         14   Yes  Yes  High  \n",
       "4         13   Yes   No   Low  "
      ]
     },
     "execution_count": 177,
     "metadata": {},
     "output_type": "execute_result"
    }
   ],
   "source": [
    "cls = []\n",
    "for i in range(0,df.shape[0]):\n",
    "    if df[\"Sales\"][i]>=7:\n",
    "        cls.append(\"High\")\n",
    "    else:\n",
    "        cls.append(\"Low\")\n",
    "df[\"Class\"]=cls\n",
    "df.head()"
   ]
  },
  {
   "cell_type": "code",
   "execution_count": 178,
   "id": "52364346",
   "metadata": {},
   "outputs": [
    {
     "data": {
      "text/plain": [
       "High    216\n",
       "Low     184\n",
       "Name: Class, dtype: int64"
      ]
     },
     "execution_count": 178,
     "metadata": {},
     "output_type": "execute_result"
    }
   ],
   "source": [
    "df[\"Class\"].value_counts()"
   ]
  },
  {
   "cell_type": "code",
   "execution_count": 179,
   "id": "e0f0ba9e",
   "metadata": {},
   "outputs": [
    {
     "data": {
      "text/html": [
       "<div>\n",
       "<style scoped>\n",
       "    .dataframe tbody tr th:only-of-type {\n",
       "        vertical-align: middle;\n",
       "    }\n",
       "\n",
       "    .dataframe tbody tr th {\n",
       "        vertical-align: top;\n",
       "    }\n",
       "\n",
       "    .dataframe thead th {\n",
       "        text-align: right;\n",
       "    }\n",
       "</style>\n",
       "<table border=\"1\" class=\"dataframe\">\n",
       "  <thead>\n",
       "    <tr style=\"text-align: right;\">\n",
       "      <th></th>\n",
       "      <th>Sales</th>\n",
       "      <th>CompPrice</th>\n",
       "      <th>Income</th>\n",
       "      <th>Advertising</th>\n",
       "      <th>Population</th>\n",
       "      <th>Price</th>\n",
       "      <th>ShelveLoc</th>\n",
       "      <th>Age</th>\n",
       "      <th>Education</th>\n",
       "      <th>Urban</th>\n",
       "      <th>US</th>\n",
       "      <th>Class</th>\n",
       "    </tr>\n",
       "  </thead>\n",
       "  <tbody>\n",
       "    <tr>\n",
       "      <th>0</th>\n",
       "      <td>9.50</td>\n",
       "      <td>138</td>\n",
       "      <td>73</td>\n",
       "      <td>11</td>\n",
       "      <td>276</td>\n",
       "      <td>120</td>\n",
       "      <td>0</td>\n",
       "      <td>42</td>\n",
       "      <td>17</td>\n",
       "      <td>1</td>\n",
       "      <td>1</td>\n",
       "      <td>0</td>\n",
       "    </tr>\n",
       "    <tr>\n",
       "      <th>1</th>\n",
       "      <td>11.22</td>\n",
       "      <td>111</td>\n",
       "      <td>48</td>\n",
       "      <td>16</td>\n",
       "      <td>260</td>\n",
       "      <td>83</td>\n",
       "      <td>1</td>\n",
       "      <td>65</td>\n",
       "      <td>10</td>\n",
       "      <td>1</td>\n",
       "      <td>1</td>\n",
       "      <td>0</td>\n",
       "    </tr>\n",
       "    <tr>\n",
       "      <th>2</th>\n",
       "      <td>10.06</td>\n",
       "      <td>113</td>\n",
       "      <td>35</td>\n",
       "      <td>10</td>\n",
       "      <td>269</td>\n",
       "      <td>80</td>\n",
       "      <td>2</td>\n",
       "      <td>59</td>\n",
       "      <td>12</td>\n",
       "      <td>1</td>\n",
       "      <td>1</td>\n",
       "      <td>0</td>\n",
       "    </tr>\n",
       "    <tr>\n",
       "      <th>3</th>\n",
       "      <td>7.40</td>\n",
       "      <td>117</td>\n",
       "      <td>100</td>\n",
       "      <td>4</td>\n",
       "      <td>466</td>\n",
       "      <td>97</td>\n",
       "      <td>2</td>\n",
       "      <td>55</td>\n",
       "      <td>14</td>\n",
       "      <td>1</td>\n",
       "      <td>1</td>\n",
       "      <td>0</td>\n",
       "    </tr>\n",
       "    <tr>\n",
       "      <th>4</th>\n",
       "      <td>4.15</td>\n",
       "      <td>141</td>\n",
       "      <td>64</td>\n",
       "      <td>3</td>\n",
       "      <td>340</td>\n",
       "      <td>128</td>\n",
       "      <td>0</td>\n",
       "      <td>38</td>\n",
       "      <td>13</td>\n",
       "      <td>1</td>\n",
       "      <td>0</td>\n",
       "      <td>1</td>\n",
       "    </tr>\n",
       "  </tbody>\n",
       "</table>\n",
       "</div>"
      ],
      "text/plain": [
       "   Sales  CompPrice  Income  Advertising  Population  Price  ShelveLoc  Age  \\\n",
       "0   9.50        138      73           11         276    120          0   42   \n",
       "1  11.22        111      48           16         260     83          1   65   \n",
       "2  10.06        113      35           10         269     80          2   59   \n",
       "3   7.40        117     100            4         466     97          2   55   \n",
       "4   4.15        141      64            3         340    128          0   38   \n",
       "\n",
       "   Education  Urban  US  Class  \n",
       "0         17      1   1      0  \n",
       "1         10      1   1      0  \n",
       "2         12      1   1      0  \n",
       "3         14      1   1      0  \n",
       "4         13      1   0      1  "
      ]
     },
     "execution_count": 179,
     "metadata": {},
     "output_type": "execute_result"
    }
   ],
   "source": [
    "lblen = LabelEncoder()\n",
    "df[\"ShelveLoc\"] = lblen.fit_transform(df[\"ShelveLoc\"])\n",
    "df[\"Urban\"] = lblen.fit_transform(df[\"Urban\"])\n",
    "df[\"US\"] = lblen.fit_transform(df[\"US\"])\n",
    "df[\"Class\"] = lblen.fit_transform(df[\"Class\"])\n",
    "df.head()"
   ]
  },
  {
   "cell_type": "code",
   "execution_count": 180,
   "id": "357e6843",
   "metadata": {},
   "outputs": [],
   "source": [
    "x=df.iloc[:,1:11]\n",
    "y=df.iloc[:,11]"
   ]
  },
  {
   "cell_type": "code",
   "execution_count": 181,
   "id": "a2ef0945",
   "metadata": {},
   "outputs": [],
   "source": [
    "x_train,x_test,y_train,y_test = train_test_split(x,y,shuffle=True,test_size=0.3)"
   ]
  },
  {
   "cell_type": "code",
   "execution_count": 182,
   "id": "7a7c385b",
   "metadata": {},
   "outputs": [],
   "source": [
    "model= RandomForestClassifier(n_estimators=10,random_state=42)\n",
    "model.fit(x_train,y_train)\n",
    "y_pred = model.predict(x_test)"
   ]
  },
  {
   "cell_type": "code",
   "execution_count": 183,
   "id": "f54cdfdf",
   "metadata": {},
   "outputs": [
    {
     "data": {
      "text/plain": [
       "DecisionTreeClassifier()"
      ]
     },
     "execution_count": 183,
     "metadata": {},
     "output_type": "execute_result"
    }
   ],
   "source": [
    "model.base_estimator_.fit(x_train,y_train)"
   ]
  },
  {
   "cell_type": "code",
   "execution_count": 184,
   "id": "9ca5efa3",
   "metadata": {},
   "outputs": [
    {
     "data": {
      "text/plain": [
       "[Text(330.22265625, 520.95, 'Price <= 105.5\\ngini = 0.494\\nsamples = 280\\nvalue = [155, 125]\\nclass = High'),\n",
       " Text(127.875, 475.65000000000003, 'ShelveLoc <= 0.5\\ngini = 0.359\\nsamples = 98\\nvalue = [75, 23]\\nclass = High'),\n",
       " Text(69.75, 430.35, 'Income <= 95.5\\ngini = 0.496\\nsamples = 22\\nvalue = [10, 12]\\nclass = Low'),\n",
       " Text(46.5, 385.05, 'Age <= 34.5\\ngini = 0.415\\nsamples = 17\\nvalue = [5, 12]\\nclass = Low'),\n",
       " Text(23.25, 339.75, 'gini = 0.0\\nsamples = 3\\nvalue = [3, 0]\\nclass = High'),\n",
       " Text(69.75, 339.75, 'CompPrice <= 121.5\\ngini = 0.245\\nsamples = 14\\nvalue = [2, 12]\\nclass = Low'),\n",
       " Text(46.5, 294.45, 'gini = 0.0\\nsamples = 11\\nvalue = [0, 11]\\nclass = Low'),\n",
       " Text(93.0, 294.45, 'Education <= 16.5\\ngini = 0.444\\nsamples = 3\\nvalue = [2, 1]\\nclass = High'),\n",
       " Text(69.75, 249.14999999999998, 'gini = 0.0\\nsamples = 2\\nvalue = [2, 0]\\nclass = High'),\n",
       " Text(116.25, 249.14999999999998, 'gini = 0.0\\nsamples = 1\\nvalue = [0, 1]\\nclass = Low'),\n",
       " Text(93.0, 385.05, 'gini = 0.0\\nsamples = 5\\nvalue = [5, 0]\\nclass = High'),\n",
       " Text(186.0, 430.35, 'Price <= 94.5\\ngini = 0.248\\nsamples = 76\\nvalue = [65, 11]\\nclass = High'),\n",
       " Text(162.75, 385.05, 'gini = 0.0\\nsamples = 38\\nvalue = [38, 0]\\nclass = High'),\n",
       " Text(209.25, 385.05, 'Income <= 24.5\\ngini = 0.411\\nsamples = 38\\nvalue = [27, 11]\\nclass = High'),\n",
       " Text(186.0, 339.75, 'gini = 0.0\\nsamples = 3\\nvalue = [0, 3]\\nclass = Low'),\n",
       " Text(232.5, 339.75, 'CompPrice <= 123.5\\ngini = 0.353\\nsamples = 35\\nvalue = [27, 8]\\nclass = High'),\n",
       " Text(209.25, 294.45, 'Income <= 57.5\\ngini = 0.454\\nsamples = 23\\nvalue = [15, 8]\\nclass = High'),\n",
       " Text(162.75, 249.14999999999998, 'Population <= 431.0\\ngini = 0.32\\nsamples = 5\\nvalue = [1, 4]\\nclass = Low'),\n",
       " Text(139.5, 203.84999999999997, 'gini = 0.0\\nsamples = 4\\nvalue = [0, 4]\\nclass = Low'),\n",
       " Text(186.0, 203.84999999999997, 'gini = 0.0\\nsamples = 1\\nvalue = [1, 0]\\nclass = High'),\n",
       " Text(255.75, 249.14999999999998, 'Age <= 60.5\\ngini = 0.346\\nsamples = 18\\nvalue = [14, 4]\\nclass = High'),\n",
       " Text(232.5, 203.84999999999997, 'gini = 0.0\\nsamples = 9\\nvalue = [9, 0]\\nclass = High'),\n",
       " Text(279.0, 203.84999999999997, 'Advertising <= 9.0\\ngini = 0.494\\nsamples = 9\\nvalue = [5, 4]\\nclass = High'),\n",
       " Text(255.75, 158.55, 'CompPrice <= 109.5\\ngini = 0.444\\nsamples = 6\\nvalue = [2, 4]\\nclass = Low'),\n",
       " Text(232.5, 113.25, 'gini = 0.0\\nsamples = 3\\nvalue = [0, 3]\\nclass = Low'),\n",
       " Text(279.0, 113.25, 'CompPrice <= 115.0\\ngini = 0.444\\nsamples = 3\\nvalue = [2, 1]\\nclass = High'),\n",
       " Text(255.75, 67.94999999999999, 'gini = 0.0\\nsamples = 2\\nvalue = [2, 0]\\nclass = High'),\n",
       " Text(302.25, 67.94999999999999, 'gini = 0.0\\nsamples = 1\\nvalue = [0, 1]\\nclass = Low'),\n",
       " Text(302.25, 158.55, 'gini = 0.0\\nsamples = 3\\nvalue = [3, 0]\\nclass = High'),\n",
       " Text(255.75, 294.45, 'gini = 0.0\\nsamples = 12\\nvalue = [12, 0]\\nclass = High'),\n",
       " Text(532.5703125, 475.65000000000003, 'ShelveLoc <= 0.5\\ngini = 0.493\\nsamples = 182\\nvalue = [80, 102]\\nclass = Low'),\n",
       " Text(395.25, 430.35, 'CompPrice <= 150.0\\ngini = 0.234\\nsamples = 37\\nvalue = [5, 32]\\nclass = Low'),\n",
       " Text(372.0, 385.05, 'Advertising <= 18.5\\ngini = 0.157\\nsamples = 35\\nvalue = [3, 32]\\nclass = Low'),\n",
       " Text(325.5, 339.75, 'Advertising <= 10.5\\ngini = 0.061\\nsamples = 32\\nvalue = [1, 31]\\nclass = Low'),\n",
       " Text(302.25, 294.45, 'gini = 0.0\\nsamples = 26\\nvalue = [0, 26]\\nclass = Low'),\n",
       " Text(348.75, 294.45, 'Education <= 16.5\\ngini = 0.278\\nsamples = 6\\nvalue = [1, 5]\\nclass = Low'),\n",
       " Text(325.5, 249.14999999999998, 'gini = 0.0\\nsamples = 5\\nvalue = [0, 5]\\nclass = Low'),\n",
       " Text(372.0, 249.14999999999998, 'gini = 0.0\\nsamples = 1\\nvalue = [1, 0]\\nclass = High'),\n",
       " Text(418.5, 339.75, 'Population <= 384.5\\ngini = 0.444\\nsamples = 3\\nvalue = [2, 1]\\nclass = High'),\n",
       " Text(395.25, 294.45, 'gini = 0.0\\nsamples = 1\\nvalue = [0, 1]\\nclass = Low'),\n",
       " Text(441.75, 294.45, 'gini = 0.0\\nsamples = 2\\nvalue = [2, 0]\\nclass = High'),\n",
       " Text(418.5, 385.05, 'gini = 0.0\\nsamples = 2\\nvalue = [2, 0]\\nclass = High'),\n",
       " Text(669.890625, 430.35, 'ShelveLoc <= 1.5\\ngini = 0.499\\nsamples = 145\\nvalue = [75, 70]\\nclass = High'),\n",
       " Text(534.75, 385.05, 'Age <= 76.0\\ngini = 0.231\\nsamples = 45\\nvalue = [39, 6]\\nclass = High'),\n",
       " Text(511.5, 339.75, 'Price <= 158.0\\ngini = 0.169\\nsamples = 43\\nvalue = [39, 4]\\nclass = High'),\n",
       " Text(488.25, 294.45, 'CompPrice <= 117.0\\ngini = 0.093\\nsamples = 41\\nvalue = [39, 2]\\nclass = High'),\n",
       " Text(465.0, 249.14999999999998, 'Education <= 12.5\\ngini = 0.298\\nsamples = 11\\nvalue = [9, 2]\\nclass = High'),\n",
       " Text(441.75, 203.84999999999997, 'Population <= 397.0\\ngini = 0.444\\nsamples = 3\\nvalue = [1, 2]\\nclass = Low'),\n",
       " Text(418.5, 158.55, 'gini = 0.0\\nsamples = 2\\nvalue = [0, 2]\\nclass = Low'),\n",
       " Text(465.0, 158.55, 'gini = 0.0\\nsamples = 1\\nvalue = [1, 0]\\nclass = High'),\n",
       " Text(488.25, 203.84999999999997, 'gini = 0.0\\nsamples = 8\\nvalue = [8, 0]\\nclass = High'),\n",
       " Text(511.5, 249.14999999999998, 'gini = 0.0\\nsamples = 30\\nvalue = [30, 0]\\nclass = High'),\n",
       " Text(534.75, 294.45, 'gini = 0.0\\nsamples = 2\\nvalue = [0, 2]\\nclass = Low'),\n",
       " Text(558.0, 339.75, 'gini = 0.0\\nsamples = 2\\nvalue = [0, 2]\\nclass = Low'),\n",
       " Text(805.03125, 385.05, 'Age <= 47.5\\ngini = 0.461\\nsamples = 100\\nvalue = [36, 64]\\nclass = Low'),\n",
       " Text(627.75, 339.75, 'Education <= 16.0\\ngini = 0.49\\nsamples = 35\\nvalue = [20, 15]\\nclass = High'),\n",
       " Text(581.25, 294.45, 'Population <= 262.5\\ngini = 0.351\\nsamples = 22\\nvalue = [17, 5]\\nclass = High'),\n",
       " Text(558.0, 249.14999999999998, 'gini = 0.0\\nsamples = 12\\nvalue = [12, 0]\\nclass = High'),\n",
       " Text(604.5, 249.14999999999998, 'Price <= 122.5\\ngini = 0.5\\nsamples = 10\\nvalue = [5, 5]\\nclass = High'),\n",
       " Text(581.25, 203.84999999999997, 'Urban <= 0.5\\ngini = 0.278\\nsamples = 6\\nvalue = [5, 1]\\nclass = High'),\n",
       " Text(558.0, 158.55, 'gini = 0.0\\nsamples = 1\\nvalue = [0, 1]\\nclass = Low'),\n",
       " Text(604.5, 158.55, 'gini = 0.0\\nsamples = 5\\nvalue = [5, 0]\\nclass = High'),\n",
       " Text(627.75, 203.84999999999997, 'gini = 0.0\\nsamples = 4\\nvalue = [0, 4]\\nclass = Low'),\n",
       " Text(674.25, 294.45, 'Price <= 117.5\\ngini = 0.355\\nsamples = 13\\nvalue = [3, 10]\\nclass = Low'),\n",
       " Text(651.0, 249.14999999999998, 'gini = 0.0\\nsamples = 2\\nvalue = [2, 0]\\nclass = High'),\n",
       " Text(697.5, 249.14999999999998, 'Advertising <= 15.0\\ngini = 0.165\\nsamples = 11\\nvalue = [1, 10]\\nclass = Low'),\n",
       " Text(674.25, 203.84999999999997, 'gini = 0.0\\nsamples = 10\\nvalue = [0, 10]\\nclass = Low'),\n",
       " Text(720.75, 203.84999999999997, 'gini = 0.0\\nsamples = 1\\nvalue = [1, 0]\\nclass = High'),\n",
       " Text(982.3125, 339.75, 'CompPrice <= 148.5\\ngini = 0.371\\nsamples = 65\\nvalue = [16, 49]\\nclass = Low'),\n",
       " Text(895.125, 294.45, 'Advertising <= 10.5\\ngini = 0.32\\nsamples = 60\\nvalue = [12, 48]\\nclass = Low'),\n",
       " Text(790.5, 249.14999999999998, 'CompPrice <= 129.5\\ngini = 0.172\\nsamples = 42\\nvalue = [4, 38]\\nclass = Low'),\n",
       " Text(767.25, 203.84999999999997, 'gini = 0.0\\nsamples = 20\\nvalue = [0, 20]\\nclass = Low'),\n",
       " Text(813.75, 203.84999999999997, 'Price <= 116.5\\ngini = 0.298\\nsamples = 22\\nvalue = [4, 18]\\nclass = Low'),\n",
       " Text(767.25, 158.55, 'Age <= 77.5\\ngini = 0.444\\nsamples = 3\\nvalue = [2, 1]\\nclass = High'),\n",
       " Text(744.0, 113.25, 'gini = 0.0\\nsamples = 2\\nvalue = [2, 0]\\nclass = High'),\n",
       " Text(790.5, 113.25, 'gini = 0.0\\nsamples = 1\\nvalue = [0, 1]\\nclass = Low'),\n",
       " Text(860.25, 158.55, 'CompPrice <= 130.5\\ngini = 0.188\\nsamples = 19\\nvalue = [2, 17]\\nclass = Low'),\n",
       " Text(837.0, 113.25, 'gini = 0.0\\nsamples = 1\\nvalue = [1, 0]\\nclass = High'),\n",
       " Text(883.5, 113.25, 'Education <= 11.5\\ngini = 0.105\\nsamples = 18\\nvalue = [1, 17]\\nclass = Low'),\n",
       " Text(860.25, 67.94999999999999, 'Advertising <= 3.5\\ngini = 0.375\\nsamples = 4\\nvalue = [1, 3]\\nclass = Low'),\n",
       " Text(837.0, 22.649999999999977, 'gini = 0.0\\nsamples = 3\\nvalue = [0, 3]\\nclass = Low'),\n",
       " Text(883.5, 22.649999999999977, 'gini = 0.0\\nsamples = 1\\nvalue = [1, 0]\\nclass = High'),\n",
       " Text(906.75, 67.94999999999999, 'gini = 0.0\\nsamples = 14\\nvalue = [0, 14]\\nclass = Low'),\n",
       " Text(999.75, 249.14999999999998, 'Price <= 127.5\\ngini = 0.494\\nsamples = 18\\nvalue = [8, 10]\\nclass = Low'),\n",
       " Text(976.5, 203.84999999999997, 'CompPrice <= 122.5\\ngini = 0.397\\nsamples = 11\\nvalue = [8, 3]\\nclass = High'),\n",
       " Text(953.25, 158.55, 'Education <= 16.5\\ngini = 0.375\\nsamples = 4\\nvalue = [1, 3]\\nclass = Low'),\n",
       " Text(930.0, 113.25, 'gini = 0.0\\nsamples = 3\\nvalue = [0, 3]\\nclass = Low'),\n",
       " Text(976.5, 113.25, 'gini = 0.0\\nsamples = 1\\nvalue = [1, 0]\\nclass = High'),\n",
       " Text(999.75, 158.55, 'gini = 0.0\\nsamples = 7\\nvalue = [7, 0]\\nclass = High'),\n",
       " Text(1023.0, 203.84999999999997, 'gini = 0.0\\nsamples = 7\\nvalue = [0, 7]\\nclass = Low'),\n",
       " Text(1069.5, 294.45, 'Population <= 158.0\\ngini = 0.32\\nsamples = 5\\nvalue = [4, 1]\\nclass = High'),\n",
       " Text(1046.25, 249.14999999999998, 'gini = 0.0\\nsamples = 1\\nvalue = [0, 1]\\nclass = Low'),\n",
       " Text(1092.75, 249.14999999999998, 'gini = 0.0\\nsamples = 4\\nvalue = [4, 0]\\nclass = High')]"
      ]
     },
     "execution_count": 184,
     "metadata": {},
     "output_type": "execute_result"
    },
    {
     "data": {
      "image/png": "[encoded data removed]",
      "text/plain": [
       "<Figure size 1440x720 with 1 Axes>"
      ]
     },
     "metadata": {
      "needs_background": "light"
     },
     "output_type": "display_data"
    }
   ],
   "source": [
    "fn = ['CompPrice','Income','Advertising','Population','Price','ShelveLoc','Age','Education','Urban','US']\n",
    "cn = ['High','Low','Medium']\n",
    "plt.figure(figsize=(20,10))\n",
    "\n",
    "tree.plot_tree(model.base_estimator_,feature_names=fn,class_names=cn,filled=True)"
   ]
  },
  {
   "cell_type": "markdown",
   "id": "1ed16bab",
   "metadata": {},
   "source": [
    "# From Random Forest Classifier we can deduce that the most important attributes are : Shelf Location at stores ,Price, Income, Competitor Price, Advertising cost, Age, Population, Education"
   ]
  },
  {
   "cell_type": "markdown",
   "id": "15456739",
   "metadata": {},
   "source": [
    "# To predict average sales"
   ]
  },
  {
   "cell_type": "code",
   "execution_count": 185,
   "id": "c4371f4b",
   "metadata": {},
   "outputs": [
    {
     "data": {
      "text/html": [
       "<div>\n",
       "<style scoped>\n",
       "    .dataframe tbody tr th:only-of-type {\n",
       "        vertical-align: middle;\n",
       "    }\n",
       "\n",
       "    .dataframe tbody tr th {\n",
       "        vertical-align: top;\n",
       "    }\n",
       "\n",
       "    .dataframe thead th {\n",
       "        text-align: right;\n",
       "    }\n",
       "</style>\n",
       "<table border=\"1\" class=\"dataframe\">\n",
       "  <thead>\n",
       "    <tr style=\"text-align: right;\">\n",
       "      <th></th>\n",
       "      <th>Sales</th>\n",
       "      <th>CompPrice</th>\n",
       "      <th>Income</th>\n",
       "      <th>Advertising</th>\n",
       "      <th>Population</th>\n",
       "      <th>Price</th>\n",
       "      <th>ShelveLoc</th>\n",
       "      <th>Age</th>\n",
       "      <th>Education</th>\n",
       "      <th>Urban</th>\n",
       "      <th>US</th>\n",
       "      <th>Class</th>\n",
       "    </tr>\n",
       "  </thead>\n",
       "  <tbody>\n",
       "    <tr>\n",
       "      <th>0</th>\n",
       "      <td>9.50</td>\n",
       "      <td>138</td>\n",
       "      <td>73</td>\n",
       "      <td>11</td>\n",
       "      <td>276</td>\n",
       "      <td>120</td>\n",
       "      <td>0</td>\n",
       "      <td>42</td>\n",
       "      <td>17</td>\n",
       "      <td>1</td>\n",
       "      <td>1</td>\n",
       "      <td>0</td>\n",
       "    </tr>\n",
       "    <tr>\n",
       "      <th>1</th>\n",
       "      <td>11.22</td>\n",
       "      <td>111</td>\n",
       "      <td>48</td>\n",
       "      <td>16</td>\n",
       "      <td>260</td>\n",
       "      <td>83</td>\n",
       "      <td>1</td>\n",
       "      <td>65</td>\n",
       "      <td>10</td>\n",
       "      <td>1</td>\n",
       "      <td>1</td>\n",
       "      <td>0</td>\n",
       "    </tr>\n",
       "    <tr>\n",
       "      <th>2</th>\n",
       "      <td>10.06</td>\n",
       "      <td>113</td>\n",
       "      <td>35</td>\n",
       "      <td>10</td>\n",
       "      <td>269</td>\n",
       "      <td>80</td>\n",
       "      <td>2</td>\n",
       "      <td>59</td>\n",
       "      <td>12</td>\n",
       "      <td>1</td>\n",
       "      <td>1</td>\n",
       "      <td>0</td>\n",
       "    </tr>\n",
       "    <tr>\n",
       "      <th>3</th>\n",
       "      <td>7.40</td>\n",
       "      <td>117</td>\n",
       "      <td>100</td>\n",
       "      <td>4</td>\n",
       "      <td>466</td>\n",
       "      <td>97</td>\n",
       "      <td>2</td>\n",
       "      <td>55</td>\n",
       "      <td>14</td>\n",
       "      <td>1</td>\n",
       "      <td>1</td>\n",
       "      <td>0</td>\n",
       "    </tr>\n",
       "    <tr>\n",
       "      <th>4</th>\n",
       "      <td>4.15</td>\n",
       "      <td>141</td>\n",
       "      <td>64</td>\n",
       "      <td>3</td>\n",
       "      <td>340</td>\n",
       "      <td>128</td>\n",
       "      <td>0</td>\n",
       "      <td>38</td>\n",
       "      <td>13</td>\n",
       "      <td>1</td>\n",
       "      <td>0</td>\n",
       "      <td>1</td>\n",
       "    </tr>\n",
       "  </tbody>\n",
       "</table>\n",
       "</div>"
      ],
      "text/plain": [
       "   Sales  CompPrice  Income  Advertising  Population  Price  ShelveLoc  Age  \\\n",
       "0   9.50        138      73           11         276    120          0   42   \n",
       "1  11.22        111      48           16         260     83          1   65   \n",
       "2  10.06        113      35           10         269     80          2   59   \n",
       "3   7.40        117     100            4         466     97          2   55   \n",
       "4   4.15        141      64            3         340    128          0   38   \n",
       "\n",
       "   Education  Urban  US  Class  \n",
       "0         17      1   1      0  \n",
       "1         10      1   1      0  \n",
       "2         12      1   1      0  \n",
       "3         14      1   1      0  \n",
       "4         13      1   0      1  "
      ]
     },
     "execution_count": 185,
     "metadata": {},
     "output_type": "execute_result"
    }
   ],
   "source": [
    "df.head()"
   ]
  },
  {
   "cell_type": "code",
   "execution_count": 194,
   "id": "845a07db",
   "metadata": {},
   "outputs": [],
   "source": [
    "def min_max_scaler(i):\n",
    "    data= pd.DataFrame(i)\n",
    "    df_norm=  (data-data.min())/(data.max()-data.min())\n",
    "    return df_norm"
   ]
  },
  {
   "cell_type": "code",
   "execution_count": 196,
   "id": "69035608",
   "metadata": {},
   "outputs": [
    {
     "data": {
      "text/html": [
       "<div>\n",
       "<style scoped>\n",
       "    .dataframe tbody tr th:only-of-type {\n",
       "        vertical-align: middle;\n",
       "    }\n",
       "\n",
       "    .dataframe tbody tr th {\n",
       "        vertical-align: top;\n",
       "    }\n",
       "\n",
       "    .dataframe thead th {\n",
       "        text-align: right;\n",
       "    }\n",
       "</style>\n",
       "<table border=\"1\" class=\"dataframe\">\n",
       "  <thead>\n",
       "    <tr style=\"text-align: right;\">\n",
       "      <th></th>\n",
       "      <th>Sales</th>\n",
       "      <th>CompPrice</th>\n",
       "      <th>Income</th>\n",
       "      <th>Advertising</th>\n",
       "      <th>Population</th>\n",
       "      <th>Price</th>\n",
       "      <th>ShelveLoc</th>\n",
       "      <th>Age</th>\n",
       "      <th>Education</th>\n",
       "      <th>Urban</th>\n",
       "      <th>US</th>\n",
       "      <th>Class</th>\n",
       "    </tr>\n",
       "  </thead>\n",
       "  <tbody>\n",
       "    <tr>\n",
       "      <th>0</th>\n",
       "      <td>0.583897</td>\n",
       "      <td>0.622449</td>\n",
       "      <td>0.525253</td>\n",
       "      <td>0.379310</td>\n",
       "      <td>0.533066</td>\n",
       "      <td>0.574850</td>\n",
       "      <td>0.0</td>\n",
       "      <td>0.309091</td>\n",
       "      <td>0.875</td>\n",
       "      <td>1.0</td>\n",
       "      <td>1.0</td>\n",
       "      <td>0.0</td>\n",
       "    </tr>\n",
       "    <tr>\n",
       "      <th>1</th>\n",
       "      <td>0.689613</td>\n",
       "      <td>0.346939</td>\n",
       "      <td>0.272727</td>\n",
       "      <td>0.551724</td>\n",
       "      <td>0.501002</td>\n",
       "      <td>0.353293</td>\n",
       "      <td>0.5</td>\n",
       "      <td>0.727273</td>\n",
       "      <td>0.000</td>\n",
       "      <td>1.0</td>\n",
       "      <td>1.0</td>\n",
       "      <td>0.0</td>\n",
       "    </tr>\n",
       "    <tr>\n",
       "      <th>2</th>\n",
       "      <td>0.618316</td>\n",
       "      <td>0.367347</td>\n",
       "      <td>0.141414</td>\n",
       "      <td>0.344828</td>\n",
       "      <td>0.519038</td>\n",
       "      <td>0.335329</td>\n",
       "      <td>1.0</td>\n",
       "      <td>0.618182</td>\n",
       "      <td>0.250</td>\n",
       "      <td>1.0</td>\n",
       "      <td>1.0</td>\n",
       "      <td>0.0</td>\n",
       "    </tr>\n",
       "    <tr>\n",
       "      <th>3</th>\n",
       "      <td>0.454825</td>\n",
       "      <td>0.408163</td>\n",
       "      <td>0.797980</td>\n",
       "      <td>0.137931</td>\n",
       "      <td>0.913828</td>\n",
       "      <td>0.437126</td>\n",
       "      <td>1.0</td>\n",
       "      <td>0.545455</td>\n",
       "      <td>0.500</td>\n",
       "      <td>1.0</td>\n",
       "      <td>1.0</td>\n",
       "      <td>0.0</td>\n",
       "    </tr>\n",
       "    <tr>\n",
       "      <th>4</th>\n",
       "      <td>0.255071</td>\n",
       "      <td>0.653061</td>\n",
       "      <td>0.434343</td>\n",
       "      <td>0.103448</td>\n",
       "      <td>0.661323</td>\n",
       "      <td>0.622754</td>\n",
       "      <td>0.0</td>\n",
       "      <td>0.236364</td>\n",
       "      <td>0.375</td>\n",
       "      <td>1.0</td>\n",
       "      <td>0.0</td>\n",
       "      <td>1.0</td>\n",
       "    </tr>\n",
       "  </tbody>\n",
       "</table>\n",
       "</div>"
      ],
      "text/plain": [
       "      Sales  CompPrice    Income  Advertising  Population     Price  \\\n",
       "0  0.583897   0.622449  0.525253     0.379310    0.533066  0.574850   \n",
       "1  0.689613   0.346939  0.272727     0.551724    0.501002  0.353293   \n",
       "2  0.618316   0.367347  0.141414     0.344828    0.519038  0.335329   \n",
       "3  0.454825   0.408163  0.797980     0.137931    0.913828  0.437126   \n",
       "4  0.255071   0.653061  0.434343     0.103448    0.661323  0.622754   \n",
       "\n",
       "   ShelveLoc       Age  Education  Urban   US  Class  \n",
       "0        0.0  0.309091      0.875    1.0  1.0    0.0  \n",
       "1        0.5  0.727273      0.000    1.0  1.0    0.0  \n",
       "2        1.0  0.618182      0.250    1.0  1.0    0.0  \n",
       "3        1.0  0.545455      0.500    1.0  1.0    0.0  \n",
       "4        0.0  0.236364      0.375    1.0  0.0    1.0  "
      ]
     },
     "execution_count": 196,
     "metadata": {},
     "output_type": "execute_result"
    }
   ],
   "source": [
    "df = min_max_scaler(df)\n",
    "df.head()"
   ]
  },
  {
   "cell_type": "code",
   "execution_count": 197,
   "id": "9e6aa694",
   "metadata": {},
   "outputs": [],
   "source": [
    "x=df.iloc[:,1:11]\n",
    "y=df.iloc[:,0]"
   ]
  },
  {
   "cell_type": "code",
   "execution_count": 198,
   "id": "3135488b",
   "metadata": {},
   "outputs": [],
   "source": [
    "x_train,x_test,y_train,y_test = train_test_split(x,y,shuffle=True,test_size=0.3)"
   ]
  },
  {
   "cell_type": "code",
   "execution_count": 199,
   "id": "cad0b43f",
   "metadata": {},
   "outputs": [
    {
     "data": {
      "text/plain": [
       "RandomForestRegressor(max_depth=8, max_features=10, min_samples_split=3,\n",
       "                      n_estimators=5, random_state=42)"
      ]
     },
     "execution_count": 199,
     "metadata": {},
     "output_type": "execute_result"
    }
   ],
   "source": [
    "modelreg = RandomForestRegressor(n_estimators=5,max_depth=8,random_state=42,min_samples_split=3,max_features=10)\n",
    "modelreg.fit(x_train,y_train)"
   ]
  },
  {
   "cell_type": "code",
   "execution_count": 221,
   "id": "b555ba0a",
   "metadata": {},
   "outputs": [
    {
     "data": {
      "text/plain": [
       "0.4548250466344516"
      ]
     },
     "execution_count": 221,
     "metadata": {},
     "output_type": "execute_result"
    }
   ],
   "source": [
    "y_pred = modelreg.predict(x_test)\n",
    "y_pred.mean()"
   ]
  },
  {
   "cell_type": "code",
   "execution_count": 222,
   "id": "db1872b5",
   "metadata": {},
   "outputs": [
    {
     "data": {
      "text/plain": [
       "0.7734142162884778"
      ]
     },
     "execution_count": 222,
     "metadata": {},
     "output_type": "execute_result"
    }
   ],
   "source": [
    "1-mape(y_test,y_pred)"
   ]
  },
  {
   "cell_type": "markdown",
   "id": "10be218b",
   "metadata": {},
   "source": [
    "# Hence using Random forest classifier we can predict the average sales to be  7.4 with a 77.34% accuracy"
   ]
  }
 ],
 "metadata": {
  "kernelspec": {
   "display_name": "Python 3",
   "language": "python",
   "name": "python3"
  },
  "language_info": {
   "codemirror_mode": {
    "name": "ipython",
    "version": 3
   },
   "file_extension": ".py",
   "mimetype": "text/x-python",
   "name": "python",
   "nbconvert_exporter": "python",
   "pygments_lexer": "ipython3",
   "version": "3.8.8"
  }
 },
 "nbformat": 4,
 "nbformat_minor": 5
}
